{
 "cells": [
  {
   "cell_type": "code",
   "execution_count": 2,
   "id": "b56d8ebb",
   "metadata": {},
   "outputs": [],
   "source": [
    "import pandas as pd"
   ]
  },
  {
   "cell_type": "code",
   "execution_count": 3,
   "id": "a4f3ee08",
   "metadata": {
    "scrolled": true
   },
   "outputs": [
    {
     "data": {
      "text/html": [
       "<div>\n",
       "<style scoped>\n",
       "    .dataframe tbody tr th:only-of-type {\n",
       "        vertical-align: middle;\n",
       "    }\n",
       "\n",
       "    .dataframe tbody tr th {\n",
       "        vertical-align: top;\n",
       "    }\n",
       "\n",
       "    .dataframe thead th {\n",
       "        text-align: right;\n",
       "    }\n",
       "</style>\n",
       "<table border=\"1\" class=\"dataframe\">\n",
       "  <thead>\n",
       "    <tr style=\"text-align: right;\">\n",
       "      <th></th>\n",
       "      <th>model</th>\n",
       "      <th>location</th>\n",
       "      <th>year</th>\n",
       "      <th>price</th>\n",
       "      <th>mileage</th>\n",
       "      <th>engine_type</th>\n",
       "      <th>transmission</th>\n",
       "      <th>engine_capacity</th>\n",
       "    </tr>\n",
       "  </thead>\n",
       "  <tbody>\n",
       "    <tr>\n",
       "      <th>0</th>\n",
       "      <td>Honda Civic VTi Oriel Prosmatec 1.8 i-VTEC 2007</td>\n",
       "      <td>Islamabad Islamabad</td>\n",
       "      <td>2007.0</td>\n",
       "      <td>PKR 16.5 lacs</td>\n",
       "      <td>100,000 km</td>\n",
       "      <td>Petrol</td>\n",
       "      <td>Automatic</td>\n",
       "      <td>1800 cc</td>\n",
       "    </tr>\n",
       "    <tr>\n",
       "      <th>1</th>\n",
       "      <td>Suzuki Mehran VX Euro II 2012</td>\n",
       "      <td>Eden Gardens, Faisalabad Punjab</td>\n",
       "      <td>2012.0</td>\n",
       "      <td>PKR 7 lacs</td>\n",
       "      <td>100,000 km</td>\n",
       "      <td>Petrol</td>\n",
       "      <td>Manual</td>\n",
       "      <td>800 cc</td>\n",
       "    </tr>\n",
       "    <tr>\n",
       "      <th>2</th>\n",
       "      <td>Honda Civic EX 1995</td>\n",
       "      <td>Bostan Road, Rawalpindi Punjab</td>\n",
       "      <td>1995.0</td>\n",
       "      <td>PKR 7.6 lacs</td>\n",
       "      <td>999 km</td>\n",
       "      <td>Petrol</td>\n",
       "      <td>Manual</td>\n",
       "      <td>1500 cc</td>\n",
       "    </tr>\n",
       "    <tr>\n",
       "      <th>3</th>\n",
       "      <td>Toyota Fortuner 2.7 VVTi 2013</td>\n",
       "      <td>Kallar Kahar Road, Chakwal Punjab</td>\n",
       "      <td>2013.0</td>\n",
       "      <td>PKR 70 lacs</td>\n",
       "      <td>94,000 km</td>\n",
       "      <td>Petrol</td>\n",
       "      <td>Automatic</td>\n",
       "      <td>2700 cc</td>\n",
       "    </tr>\n",
       "    <tr>\n",
       "      <th>4</th>\n",
       "      <td>Suzuki Mehran VX Euro II 2015</td>\n",
       "      <td>Muzaffar Gargh Punjab</td>\n",
       "      <td>2015.0</td>\n",
       "      <td>PKR 8 lacs</td>\n",
       "      <td>86,000 km</td>\n",
       "      <td>Petrol</td>\n",
       "      <td>Manual</td>\n",
       "      <td>796 cc</td>\n",
       "    </tr>\n",
       "  </tbody>\n",
       "</table>\n",
       "</div>"
      ],
      "text/plain": [
       "                                             model  \\\n",
       "0  Honda Civic VTi Oriel Prosmatec 1.8 i-VTEC 2007   \n",
       "1                    Suzuki Mehran VX Euro II 2012   \n",
       "2                              Honda Civic EX 1995   \n",
       "3                    Toyota Fortuner 2.7 VVTi 2013   \n",
       "4                    Suzuki Mehran VX Euro II 2015   \n",
       "\n",
       "                             location    year          price     mileage  \\\n",
       "0                 Islamabad Islamabad  2007.0  PKR 16.5 lacs  100,000 km   \n",
       "1     Eden Gardens, Faisalabad Punjab  2012.0     PKR 7 lacs  100,000 km   \n",
       "2      Bostan Road, Rawalpindi Punjab  1995.0   PKR 7.6 lacs      999 km   \n",
       "3   Kallar Kahar Road, Chakwal Punjab  2013.0    PKR 70 lacs   94,000 km   \n",
       "4               Muzaffar Gargh Punjab  2015.0     PKR 8 lacs   86,000 km   \n",
       "\n",
       "  engine_type transmission engine_capacity  \n",
       "0      Petrol    Automatic         1800 cc  \n",
       "1      Petrol       Manual          800 cc  \n",
       "2      Petrol       Manual         1500 cc  \n",
       "3      Petrol    Automatic         2700 cc  \n",
       "4      Petrol       Manual          796 cc  "
      ]
     },
     "execution_count": 3,
     "metadata": {},
     "output_type": "execute_result"
    }
   ],
   "source": [
    "car = pd.read_csv('dataset.csv')\n",
    "car.head()"
   ]
  },
  {
   "cell_type": "code",
   "execution_count": 172,
   "id": "6d842ca3",
   "metadata": {},
   "outputs": [
    {
     "data": {
      "text/plain": [
       "array([' Islamabad Islamabad', ' Eden Gardens Faisalabad Punjab',\n",
       "       ' Bostan Road Rawalpindi Punjab', ...,\n",
       "       ' Faqeer Mohammad Road Quetta Balochistan',\n",
       "       ' Hazara Double Road Quetta Balochistan',\n",
       "       ' Sunderdas Road Lahore Punjab'], dtype=object)"
      ]
     },
     "execution_count": 172,
     "metadata": {},
     "output_type": "execute_result"
    }
   ],
   "source": [
    "car['location'] = car['location'].str.replace(r',','')\n",
    "car['location'].astype(str)\n",
    "car['location'].unique()"
   ]
  },
  {
   "cell_type": "code",
   "execution_count": 173,
   "id": "58a8f986",
   "metadata": {},
   "outputs": [
    {
     "data": {
      "text/plain": [
       "array([2007, 2012, 1995, 2013, 2015, 2011, 2018, 2020, 2006, 2016, 2014,\n",
       "       2022, 1994, 2008, 2004, 2017, 2005, 2021, 2019, 1999, 2003, 2000,\n",
       "       2009, 1998, 2001, 2010, 2002, 1993, 1997, 1996, 1991, 1992, 1990])"
      ]
     },
     "execution_count": 173,
     "metadata": {},
     "output_type": "execute_result"
    }
   ],
   "source": [
    "car = car[~car['year'].isna()]\n",
    "car['year'] = car['year'].astype(int)\n",
    "car['year'].unique()"
   ]
  },
  {
   "cell_type": "code",
   "execution_count": 174,
   "id": "426100bf",
   "metadata": {},
   "outputs": [],
   "source": [
    "car['mileage'] = car['mileage'].str.split(' ').str.get(0)\n",
    "car['mileage'] = car['mileage'].str.replace(r',','')\n",
    "car['mileage'] = car['mileage'].astype(int)"
   ]
  },
  {
   "cell_type": "code",
   "execution_count": 175,
   "id": "8aef97b9",
   "metadata": {},
   "outputs": [],
   "source": [
    "car = car.drop('engine_capacity',axis=1)\n",
    "car = car.reset_index(drop=True)"
   ]
  },
  {
   "cell_type": "code",
   "execution_count": 176,
   "id": "0c616501",
   "metadata": {},
   "outputs": [],
   "source": [
    "car['price'] = car['price'].str.split(' ').str.get(1)"
   ]
  },
  {
   "cell_type": "code",
   "execution_count": 177,
   "id": "e490d36e",
   "metadata": {},
   "outputs": [],
   "source": [
    "car = car[car['price'].str.isnumeric()]"
   ]
  },
  {
   "cell_type": "code",
   "execution_count": 178,
   "id": "7ad2169a",
   "metadata": {},
   "outputs": [],
   "source": [
    "new_list = [int(str(num) + '00000') for num in car['price']]"
   ]
  },
  {
   "cell_type": "code",
   "execution_count": 179,
   "id": "0b723409",
   "metadata": {},
   "outputs": [
    {
     "data": {
      "text/plain": [
       "array([  700000,  7000000,   800000,  1300000,  3600000,  3200000,\n",
       "        4200000,  2400000,  3300000,  3700000,  1900000,  3500000,\n",
       "        3400000,  1600000,  9800000,  2000000,  1800000,  2300000,\n",
       "         300000,  1700000,  2700000,  4700000,  3800000,  1200000,\n",
       "         900000,  2500000,  5800000,  7400000,  4100000,  1000000,\n",
       "        3000000,  5000000,  8000000,  4000000,   600000,  2800000,\n",
       "        5300000,  2200000,  7200000,  8800000,  8300000,  4500000,\n",
       "        9200000,  1500000,  9000000,  2600000,  4600000,  7100000,\n",
       "        6500000,  1400000,  6000000,  4800000,  5600000,  7600000,\n",
       "        2100000,   500000,  5500000,  9500000,  1100000,  7700000,\n",
       "        5700000,  7800000,  3100000,   400000,  5200000,  2900000,\n",
       "        4400000,  4300000,  6100000,  6800000,  9400000,  3900000,\n",
       "        8500000,  5100000,  6600000,  6700000,  4900000,  5900000,\n",
       "        7900000,  9300000,  8700000,  6300000,  9700000,  7500000,\n",
       "        9600000,   100000,  5400000,  8200000,  6400000,  8900000,\n",
       "        8100000,  6200000,  7300000,  6900000,   200000,  9100000,\n",
       "        8600000,  8400000,  9900000, 10000000], dtype=int64)"
      ]
     },
     "execution_count": 179,
     "metadata": {},
     "output_type": "execute_result"
    }
   ],
   "source": [
    "car['price'] = new_list\n",
    "car['price'].unique()"
   ]
  },
  {
   "cell_type": "code",
   "execution_count": 180,
   "id": "e4e16974",
   "metadata": {},
   "outputs": [
    {
     "data": {
      "text/plain": [
       "array([  700000,  7000000,   800000,  1300000,  3600000,  3200000,\n",
       "        4200000,  2400000,  3300000,  3700000,  1900000,  3500000,\n",
       "        3400000,  1600000,  9800000,  2000000,  1800000,  2300000,\n",
       "         300000,  1700000,  2700000,  4700000,  3800000,  1200000,\n",
       "         900000,  2500000,  5800000,  7400000,  4100000,  1000000,\n",
       "        3000000,  5000000,  8000000,  4000000,   600000,  2800000,\n",
       "        5300000,  2200000,  7200000,  8800000,  8300000,  4500000,\n",
       "        9200000,  1500000,  9000000,  2600000,  4600000,  7100000,\n",
       "        6500000,  1400000,  6000000,  4800000,  5600000,  7600000,\n",
       "        2100000,   500000,  5500000,  9500000,  1100000,  7700000,\n",
       "        5700000,  7800000,  3100000,   400000,  5200000,  2900000,\n",
       "        4400000,  4300000,  6100000,  6800000,  9400000,  3900000,\n",
       "        8500000,  5100000,  6600000,  6700000,  4900000,  5900000,\n",
       "        7900000,  9300000,  8700000,  6300000,  9700000,  7500000,\n",
       "        9600000,   100000,  5400000,  8200000,  6400000,  8900000,\n",
       "        8100000,  6200000,  7300000,  6900000,   200000,  9100000,\n",
       "        8600000,  8400000,  9900000, 10000000], dtype=int64)"
      ]
     },
     "execution_count": 180,
     "metadata": {},
     "output_type": "execute_result"
    }
   ],
   "source": [
    "car['price'].unique()"
   ]
  },
  {
   "cell_type": "code",
   "execution_count": 181,
   "id": "501832f3",
   "metadata": {},
   "outputs": [],
   "source": [
    "car['model'] = car['model'].str.split(' ').str.slice(0,3).str.join(' ')"
   ]
  },
  {
   "cell_type": "code",
   "execution_count": 182,
   "id": "f8de1b5a",
   "metadata": {},
   "outputs": [
    {
     "data": {
      "text/html": [
       "<div>\n",
       "<style scoped>\n",
       "    .dataframe tbody tr th:only-of-type {\n",
       "        vertical-align: middle;\n",
       "    }\n",
       "\n",
       "    .dataframe tbody tr th {\n",
       "        vertical-align: top;\n",
       "    }\n",
       "\n",
       "    .dataframe thead th {\n",
       "        text-align: right;\n",
       "    }\n",
       "</style>\n",
       "<table border=\"1\" class=\"dataframe\">\n",
       "  <thead>\n",
       "    <tr style=\"text-align: right;\">\n",
       "      <th></th>\n",
       "      <th>model</th>\n",
       "      <th>location</th>\n",
       "      <th>year</th>\n",
       "      <th>price</th>\n",
       "      <th>mileage</th>\n",
       "      <th>engine_type</th>\n",
       "      <th>transmission</th>\n",
       "    </tr>\n",
       "  </thead>\n",
       "  <tbody>\n",
       "    <tr>\n",
       "      <th>0</th>\n",
       "      <td>Suzuki Mehran VX</td>\n",
       "      <td>Eden Gardens Faisalabad Punjab</td>\n",
       "      <td>2012</td>\n",
       "      <td>700000</td>\n",
       "      <td>100000</td>\n",
       "      <td>Petrol</td>\n",
       "      <td>Manual</td>\n",
       "    </tr>\n",
       "    <tr>\n",
       "      <th>1</th>\n",
       "      <td>Toyota Fortuner 2.7</td>\n",
       "      <td>Kallar Kahar Road Chakwal Punjab</td>\n",
       "      <td>2013</td>\n",
       "      <td>7000000</td>\n",
       "      <td>94000</td>\n",
       "      <td>Petrol</td>\n",
       "      <td>Automatic</td>\n",
       "    </tr>\n",
       "    <tr>\n",
       "      <th>2</th>\n",
       "      <td>Suzuki Mehran VX</td>\n",
       "      <td>Muzaffar Gargh Punjab</td>\n",
       "      <td>2015</td>\n",
       "      <td>800000</td>\n",
       "      <td>86000</td>\n",
       "      <td>Petrol</td>\n",
       "      <td>Manual</td>\n",
       "    </tr>\n",
       "    <tr>\n",
       "      <th>3</th>\n",
       "      <td>Suzuki MR Wagon</td>\n",
       "      <td>Rafi Qamar Road Bahawalpur Punjab</td>\n",
       "      <td>2011</td>\n",
       "      <td>1300000</td>\n",
       "      <td>97000</td>\n",
       "      <td>Petrol</td>\n",
       "      <td>Automatic</td>\n",
       "    </tr>\n",
       "    <tr>\n",
       "      <th>4</th>\n",
       "      <td>Honda BR-V i-VTEC</td>\n",
       "      <td>Marala Road Sialkot Punjab</td>\n",
       "      <td>2018</td>\n",
       "      <td>3600000</td>\n",
       "      <td>56000</td>\n",
       "      <td>Petrol</td>\n",
       "      <td>Automatic</td>\n",
       "    </tr>\n",
       "    <tr>\n",
       "      <th>...</th>\n",
       "      <td>...</td>\n",
       "      <td>...</td>\n",
       "      <td>...</td>\n",
       "      <td>...</td>\n",
       "      <td>...</td>\n",
       "      <td>...</td>\n",
       "      <td>...</td>\n",
       "    </tr>\n",
       "    <tr>\n",
       "      <th>17897</th>\n",
       "      <td>Toyota Aqua S</td>\n",
       "      <td>Gulistan-e-Jauhar Karachi Sindh</td>\n",
       "      <td>2017</td>\n",
       "      <td>4500000</td>\n",
       "      <td>58000</td>\n",
       "      <td>Hybrid</td>\n",
       "      <td>Automatic</td>\n",
       "    </tr>\n",
       "    <tr>\n",
       "      <th>17898</th>\n",
       "      <td>Toyota Prado TX</td>\n",
       "      <td>DHA Defence Lahore Punjab</td>\n",
       "      <td>2007</td>\n",
       "      <td>7500000</td>\n",
       "      <td>150000</td>\n",
       "      <td>Petrol</td>\n",
       "      <td>Automatic</td>\n",
       "    </tr>\n",
       "    <tr>\n",
       "      <th>17899</th>\n",
       "      <td>Suzuki Swift DLX</td>\n",
       "      <td>Islamabad Islamabad</td>\n",
       "      <td>2018</td>\n",
       "      <td>2100000</td>\n",
       "      <td>90000</td>\n",
       "      <td>Petrol</td>\n",
       "      <td>Manual</td>\n",
       "    </tr>\n",
       "    <tr>\n",
       "      <th>17900</th>\n",
       "      <td>Suzuki Wagon R</td>\n",
       "      <td>Karachi Sindh</td>\n",
       "      <td>2016</td>\n",
       "      <td>1800000</td>\n",
       "      <td>54000</td>\n",
       "      <td>Petrol</td>\n",
       "      <td>Manual</td>\n",
       "    </tr>\n",
       "    <tr>\n",
       "      <th>17901</th>\n",
       "      <td>Suzuki Alto L</td>\n",
       "      <td>7th Avenue Islamabad Islamabad</td>\n",
       "      <td>2017</td>\n",
       "      <td>2400000</td>\n",
       "      <td>39000</td>\n",
       "      <td>Petrol</td>\n",
       "      <td>Automatic</td>\n",
       "    </tr>\n",
       "  </tbody>\n",
       "</table>\n",
       "<p>17902 rows × 7 columns</p>\n",
       "</div>"
      ],
      "text/plain": [
       "                     model                            location  year    price  \\\n",
       "0         Suzuki Mehran VX      Eden Gardens Faisalabad Punjab  2012   700000   \n",
       "1      Toyota Fortuner 2.7    Kallar Kahar Road Chakwal Punjab  2013  7000000   \n",
       "2         Suzuki Mehran VX               Muzaffar Gargh Punjab  2015   800000   \n",
       "3          Suzuki MR Wagon   Rafi Qamar Road Bahawalpur Punjab  2011  1300000   \n",
       "4        Honda BR-V i-VTEC          Marala Road Sialkot Punjab  2018  3600000   \n",
       "...                    ...                                 ...   ...      ...   \n",
       "17897        Toyota Aqua S     Gulistan-e-Jauhar Karachi Sindh  2017  4500000   \n",
       "17898      Toyota Prado TX           DHA Defence Lahore Punjab  2007  7500000   \n",
       "17899     Suzuki Swift DLX                 Islamabad Islamabad  2018  2100000   \n",
       "17900       Suzuki Wagon R                       Karachi Sindh  2016  1800000   \n",
       "17901        Suzuki Alto L      7th Avenue Islamabad Islamabad  2017  2400000   \n",
       "\n",
       "       mileage engine_type transmission  \n",
       "0       100000      Petrol       Manual  \n",
       "1        94000      Petrol    Automatic  \n",
       "2        86000      Petrol       Manual  \n",
       "3        97000      Petrol    Automatic  \n",
       "4        56000      Petrol    Automatic  \n",
       "...        ...         ...          ...  \n",
       "17897    58000      Hybrid    Automatic  \n",
       "17898   150000      Petrol    Automatic  \n",
       "17899    90000      Petrol       Manual  \n",
       "17900    54000      Petrol       Manual  \n",
       "17901    39000      Petrol    Automatic  \n",
       "\n",
       "[17902 rows x 7 columns]"
      ]
     },
     "execution_count": 182,
     "metadata": {},
     "output_type": "execute_result"
    }
   ],
   "source": [
    "car.reset_index(drop=True)"
   ]
  },
  {
   "cell_type": "code",
   "execution_count": 183,
   "id": "0f455efd",
   "metadata": {},
   "outputs": [
    {
     "name": "stdout",
     "output_type": "stream",
     "text": [
      "<class 'pandas.core.frame.DataFrame'>\n",
      "Int64Index: 17902 entries, 1 to 57982\n",
      "Data columns (total 7 columns):\n",
      " #   Column        Non-Null Count  Dtype \n",
      "---  ------        --------------  ----- \n",
      " 0   model         17902 non-null  object\n",
      " 1   location      17902 non-null  object\n",
      " 2   year          17902 non-null  int32 \n",
      " 3   price         17902 non-null  int64 \n",
      " 4   mileage       17902 non-null  int32 \n",
      " 5   engine_type   17824 non-null  object\n",
      " 6   transmission  17902 non-null  object\n",
      "dtypes: int32(2), int64(1), object(4)\n",
      "memory usage: 979.0+ KB\n"
     ]
    }
   ],
   "source": [
    "car.info()"
   ]
  },
  {
   "cell_type": "code",
   "execution_count": 186,
   "id": "ffe6b1cf",
   "metadata": {},
   "outputs": [
    {
     "data": {
      "text/html": [
       "<div>\n",
       "<style scoped>\n",
       "    .dataframe tbody tr th:only-of-type {\n",
       "        vertical-align: middle;\n",
       "    }\n",
       "\n",
       "    .dataframe tbody tr th {\n",
       "        vertical-align: top;\n",
       "    }\n",
       "\n",
       "    .dataframe thead th {\n",
       "        text-align: right;\n",
       "    }\n",
       "</style>\n",
       "<table border=\"1\" class=\"dataframe\">\n",
       "  <thead>\n",
       "    <tr style=\"text-align: right;\">\n",
       "      <th></th>\n",
       "      <th>model</th>\n",
       "      <th>location</th>\n",
       "      <th>year</th>\n",
       "      <th>price</th>\n",
       "      <th>mileage</th>\n",
       "      <th>engine_type</th>\n",
       "      <th>transmission</th>\n",
       "    </tr>\n",
       "  </thead>\n",
       "  <tbody>\n",
       "  </tbody>\n",
       "</table>\n",
       "</div>"
      ],
      "text/plain": [
       "Empty DataFrame\n",
       "Columns: [model, location, year, price, mileage, engine_type, transmission]\n",
       "Index: []"
      ]
     },
     "execution_count": 186,
     "metadata": {},
     "output_type": "execute_result"
    }
   ],
   "source": [
    "car[car['model'].str.isnumeric()]"
   ]
  },
  {
   "cell_type": "code",
   "execution_count": 187,
   "id": "bc657aef",
   "metadata": {},
   "outputs": [
    {
     "data": {
      "text/html": [
       "<div>\n",
       "<style scoped>\n",
       "    .dataframe tbody tr th:only-of-type {\n",
       "        vertical-align: middle;\n",
       "    }\n",
       "\n",
       "    .dataframe tbody tr th {\n",
       "        vertical-align: top;\n",
       "    }\n",
       "\n",
       "    .dataframe thead th {\n",
       "        text-align: right;\n",
       "    }\n",
       "</style>\n",
       "<table border=\"1\" class=\"dataframe\">\n",
       "  <thead>\n",
       "    <tr style=\"text-align: right;\">\n",
       "      <th></th>\n",
       "      <th>model</th>\n",
       "      <th>location</th>\n",
       "      <th>year</th>\n",
       "      <th>price</th>\n",
       "      <th>mileage</th>\n",
       "      <th>engine_type</th>\n",
       "      <th>transmission</th>\n",
       "    </tr>\n",
       "  </thead>\n",
       "  <tbody>\n",
       "  </tbody>\n",
       "</table>\n",
       "</div>"
      ],
      "text/plain": [
       "Empty DataFrame\n",
       "Columns: [model, location, year, price, mileage, engine_type, transmission]\n",
       "Index: []"
      ]
     },
     "execution_count": 187,
     "metadata": {},
     "output_type": "execute_result"
    }
   ],
   "source": [
    "car[car['location'].str.isnumeric()]"
   ]
  },
  {
   "cell_type": "code",
   "execution_count": 193,
   "id": "3b1bddbf",
   "metadata": {},
   "outputs": [
    {
     "name": "stdout",
     "output_type": "stream",
     "text": [
      "<class 'pandas.core.series.Series'>\n"
     ]
    }
   ],
   "source": [
    "\n",
    "print(type(car['year']))"
   ]
  },
  {
   "cell_type": "code",
   "execution_count": 194,
   "id": "5c7600ca",
   "metadata": {},
   "outputs": [
    {
     "ename": "AttributeError",
     "evalue": "Can only use .str accessor with string values!",
     "output_type": "error",
     "traceback": [
      "\u001b[1;31m---------------------------------------------------------------------------\u001b[0m",
      "\u001b[1;31mAttributeError\u001b[0m                            Traceback (most recent call last)",
      "Cell \u001b[1;32mIn[194], line 1\u001b[0m\n\u001b[1;32m----> 1\u001b[0m car[car[\u001b[38;5;124m'\u001b[39m\u001b[38;5;124mprice\u001b[39m\u001b[38;5;124m'\u001b[39m]\u001b[38;5;241m.\u001b[39mstr\u001b[38;5;241m.\u001b[39misnumeric()]\n",
      "File \u001b[1;32mD:\\Anaconda\\Lib\\site-packages\\pandas\\core\\generic.py:5902\u001b[0m, in \u001b[0;36mNDFrame.__getattr__\u001b[1;34m(self, name)\u001b[0m\n\u001b[0;32m   5895\u001b[0m \u001b[38;5;28;01mif\u001b[39;00m (\n\u001b[0;32m   5896\u001b[0m     name \u001b[38;5;129;01mnot\u001b[39;00m \u001b[38;5;129;01min\u001b[39;00m \u001b[38;5;28mself\u001b[39m\u001b[38;5;241m.\u001b[39m_internal_names_set\n\u001b[0;32m   5897\u001b[0m     \u001b[38;5;129;01mand\u001b[39;00m name \u001b[38;5;129;01mnot\u001b[39;00m \u001b[38;5;129;01min\u001b[39;00m \u001b[38;5;28mself\u001b[39m\u001b[38;5;241m.\u001b[39m_metadata\n\u001b[0;32m   5898\u001b[0m     \u001b[38;5;129;01mand\u001b[39;00m name \u001b[38;5;129;01mnot\u001b[39;00m \u001b[38;5;129;01min\u001b[39;00m \u001b[38;5;28mself\u001b[39m\u001b[38;5;241m.\u001b[39m_accessors\n\u001b[0;32m   5899\u001b[0m     \u001b[38;5;129;01mand\u001b[39;00m \u001b[38;5;28mself\u001b[39m\u001b[38;5;241m.\u001b[39m_info_axis\u001b[38;5;241m.\u001b[39m_can_hold_identifiers_and_holds_name(name)\n\u001b[0;32m   5900\u001b[0m ):\n\u001b[0;32m   5901\u001b[0m     \u001b[38;5;28;01mreturn\u001b[39;00m \u001b[38;5;28mself\u001b[39m[name]\n\u001b[1;32m-> 5902\u001b[0m \u001b[38;5;28;01mreturn\u001b[39;00m \u001b[38;5;28mobject\u001b[39m\u001b[38;5;241m.\u001b[39m\u001b[38;5;21m__getattribute__\u001b[39m(\u001b[38;5;28mself\u001b[39m, name)\n",
      "File \u001b[1;32mD:\\Anaconda\\Lib\\site-packages\\pandas\\core\\accessor.py:182\u001b[0m, in \u001b[0;36mCachedAccessor.__get__\u001b[1;34m(self, obj, cls)\u001b[0m\n\u001b[0;32m    179\u001b[0m \u001b[38;5;28;01mif\u001b[39;00m obj \u001b[38;5;129;01mis\u001b[39;00m \u001b[38;5;28;01mNone\u001b[39;00m:\n\u001b[0;32m    180\u001b[0m     \u001b[38;5;66;03m# we're accessing the attribute of the class, i.e., Dataset.geo\u001b[39;00m\n\u001b[0;32m    181\u001b[0m     \u001b[38;5;28;01mreturn\u001b[39;00m \u001b[38;5;28mself\u001b[39m\u001b[38;5;241m.\u001b[39m_accessor\n\u001b[1;32m--> 182\u001b[0m accessor_obj \u001b[38;5;241m=\u001b[39m \u001b[38;5;28mself\u001b[39m\u001b[38;5;241m.\u001b[39m_accessor(obj)\n\u001b[0;32m    183\u001b[0m \u001b[38;5;66;03m# Replace the property with the accessor object. Inspired by:\u001b[39;00m\n\u001b[0;32m    184\u001b[0m \u001b[38;5;66;03m# https://www.pydanny.com/cached-property.html\u001b[39;00m\n\u001b[0;32m    185\u001b[0m \u001b[38;5;66;03m# We need to use object.__setattr__ because we overwrite __setattr__ on\u001b[39;00m\n\u001b[0;32m    186\u001b[0m \u001b[38;5;66;03m# NDFrame\u001b[39;00m\n\u001b[0;32m    187\u001b[0m \u001b[38;5;28mobject\u001b[39m\u001b[38;5;241m.\u001b[39m\u001b[38;5;21m__setattr__\u001b[39m(obj, \u001b[38;5;28mself\u001b[39m\u001b[38;5;241m.\u001b[39m_name, accessor_obj)\n",
      "File \u001b[1;32mD:\\Anaconda\\Lib\\site-packages\\pandas\\core\\strings\\accessor.py:181\u001b[0m, in \u001b[0;36mStringMethods.__init__\u001b[1;34m(self, data)\u001b[0m\n\u001b[0;32m    178\u001b[0m \u001b[38;5;28;01mdef\u001b[39;00m \u001b[38;5;21m__init__\u001b[39m(\u001b[38;5;28mself\u001b[39m, data) \u001b[38;5;241m-\u001b[39m\u001b[38;5;241m>\u001b[39m \u001b[38;5;28;01mNone\u001b[39;00m:\n\u001b[0;32m    179\u001b[0m     \u001b[38;5;28;01mfrom\u001b[39;00m \u001b[38;5;21;01mpandas\u001b[39;00m\u001b[38;5;21;01m.\u001b[39;00m\u001b[38;5;21;01mcore\u001b[39;00m\u001b[38;5;21;01m.\u001b[39;00m\u001b[38;5;21;01marrays\u001b[39;00m\u001b[38;5;21;01m.\u001b[39;00m\u001b[38;5;21;01mstring_\u001b[39;00m \u001b[38;5;28;01mimport\u001b[39;00m StringDtype\n\u001b[1;32m--> 181\u001b[0m     \u001b[38;5;28mself\u001b[39m\u001b[38;5;241m.\u001b[39m_inferred_dtype \u001b[38;5;241m=\u001b[39m \u001b[38;5;28mself\u001b[39m\u001b[38;5;241m.\u001b[39m_validate(data)\n\u001b[0;32m    182\u001b[0m     \u001b[38;5;28mself\u001b[39m\u001b[38;5;241m.\u001b[39m_is_categorical \u001b[38;5;241m=\u001b[39m is_categorical_dtype(data\u001b[38;5;241m.\u001b[39mdtype)\n\u001b[0;32m    183\u001b[0m     \u001b[38;5;28mself\u001b[39m\u001b[38;5;241m.\u001b[39m_is_string \u001b[38;5;241m=\u001b[39m \u001b[38;5;28misinstance\u001b[39m(data\u001b[38;5;241m.\u001b[39mdtype, StringDtype)\n",
      "File \u001b[1;32mD:\\Anaconda\\Lib\\site-packages\\pandas\\core\\strings\\accessor.py:235\u001b[0m, in \u001b[0;36mStringMethods._validate\u001b[1;34m(data)\u001b[0m\n\u001b[0;32m    232\u001b[0m inferred_dtype \u001b[38;5;241m=\u001b[39m lib\u001b[38;5;241m.\u001b[39minfer_dtype(values, skipna\u001b[38;5;241m=\u001b[39m\u001b[38;5;28;01mTrue\u001b[39;00m)\n\u001b[0;32m    234\u001b[0m \u001b[38;5;28;01mif\u001b[39;00m inferred_dtype \u001b[38;5;129;01mnot\u001b[39;00m \u001b[38;5;129;01min\u001b[39;00m allowed_types:\n\u001b[1;32m--> 235\u001b[0m     \u001b[38;5;28;01mraise\u001b[39;00m \u001b[38;5;167;01mAttributeError\u001b[39;00m(\u001b[38;5;124m\"\u001b[39m\u001b[38;5;124mCan only use .str accessor with string values!\u001b[39m\u001b[38;5;124m\"\u001b[39m)\n\u001b[0;32m    236\u001b[0m \u001b[38;5;28;01mreturn\u001b[39;00m inferred_dtype\n",
      "\u001b[1;31mAttributeError\u001b[0m: Can only use .str accessor with string values!"
     ]
    }
   ],
   "source": [
    "car[car['price'].str.isnumeric()]"
   ]
  },
  {
   "cell_type": "markdown",
   "id": "cd31ae4f",
   "metadata": {},
   "source": [
    "## Corrections\n",
    "\n",
    "#### year is not a number\n",
    "#### mileage has km at end and a ,\n",
    "#### model must be short\n",
    "#### engine capacity has cc at end\n",
    "#### price is not a number a has PKR and lacs"
   ]
  },
  {
   "cell_type": "code",
   "execution_count": 169,
   "id": "28c72e21",
   "metadata": {},
   "outputs": [],
   "source": [
    "car = car[~car['engine_type'].isna()]"
   ]
  },
  {
   "cell_type": "code",
   "execution_count": null,
   "id": "1c3a96a9",
   "metadata": {},
   "outputs": [],
   "source": [
    "car[car['engine_type'].isna()]"
   ]
  },
  {
   "cell_type": "code",
   "execution_count": null,
   "id": "f1abf3a0",
   "metadata": {},
   "outputs": [],
   "source": [
    "car['model'] = car['model'].str.replace(r'[,-.]','',regex=True)"
   ]
  },
  {
   "cell_type": "code",
   "execution_count": null,
   "id": "754fba52",
   "metadata": {},
   "outputs": [],
   "source": [
    "car['model'].unique()"
   ]
  },
  {
   "cell_type": "code",
   "execution_count": null,
   "id": "cd7b92d5",
   "metadata": {},
   "outputs": [],
   "source": [
    "car['location'] = car['location'].str.replace(r'[,-.]','',regex=True)"
   ]
  },
  {
   "cell_type": "code",
   "execution_count": null,
   "id": "8e789fbc",
   "metadata": {},
   "outputs": [],
   "source": [
    "car['location'].unique()"
   ]
  },
  {
   "cell_type": "code",
   "execution_count": null,
   "id": "7b4463bb",
   "metadata": {},
   "outputs": [],
   "source": [
    "car.reset_index(drop=True)"
   ]
  },
  {
   "cell_type": "code",
   "execution_count": null,
   "id": "2722fbdd",
   "metadata": {},
   "outputs": [],
   "source": [
    "car.to_csv('New_Data_FullyCLeaned.csv')"
   ]
  }
 ],
 "metadata": {
  "kernelspec": {
   "display_name": "Python 3 (ipykernel)",
   "language": "python",
   "name": "python3"
  },
  "language_info": {
   "codemirror_mode": {
    "name": "ipython",
    "version": 3
   },
   "file_extension": ".py",
   "mimetype": "text/x-python",
   "name": "python",
   "nbconvert_exporter": "python",
   "pygments_lexer": "ipython3",
   "version": "3.11.4"
  }
 },
 "nbformat": 4,
 "nbformat_minor": 5
}
